{
  "nbformat": 4,
  "nbformat_minor": 0,
  "metadata": {
    "colab": {
      "provenance": []
    },
    "kernelspec": {
      "name": "python3",
      "display_name": "Python 3"
    },
    "language_info": {
      "name": "python"
    }
  },
  "cells": [
    {
      "cell_type": "markdown",
      "source": [
        "# ***Day - 23***\n",
        "# ***String decimal***\n",
        "You just need to take string input from STDIN and checks whether the string consists of only decimal characters.\n",
        "\n",
        "### Input Format\n",
        "You will be taking a string as an input from STDIN.\n",
        "\n",
        "### Constraints\n",
        "1 <= |S| <= 10^4\n",
        "\n",
        "### Output Format\n",
        "You need to print the Boolean value(either \"True\" or \"False\") to the STDOUT.\n",
        "\n",
        "## Sample TestCase 1\n",
        "**Input :**\n",
        "\n",
        "586879\n",
        "\n",
        "**Output :**\n",
        "\n",
        "True\n"
      ],
      "metadata": {
        "id": "P7E9EwdBGX_l"
      }
    },
    {
      "cell_type": "code",
      "execution_count": 7,
      "metadata": {
        "colab": {
          "base_uri": "https://localhost:8080/"
        },
        "id": "VPHuby0uGVks",
        "outputId": "4a23a3c7-b991-47f2-e568-8e56bc17b801"
      },
      "outputs": [
        {
          "output_type": "stream",
          "name": "stdout",
          "text": [
            "586879\n",
            "True\n"
          ]
        }
      ],
      "source": [
        "def is_decimal(input_str):\n",
        "    return input_str.isdigit()\n",
        "\n",
        "input_str = input()\n",
        "result = is_decimal(input_str)\n",
        "print(result)"
      ]
    }
  ]
}