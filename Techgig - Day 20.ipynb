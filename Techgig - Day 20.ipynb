{
  "nbformat": 4,
  "nbformat_minor": 0,
  "metadata": {
    "colab": {
      "provenance": []
    },
    "kernelspec": {
      "name": "python3",
      "display_name": "Python 3"
    },
    "language_info": {
      "name": "python"
    }
  },
  "cells": [
    {
      "cell_type": "markdown",
      "source": [
        "# ***Day - 20***"
      ],
      "metadata": {
        "id": "UL44CVcFaCR4"
      }
    },
    {
      "cell_type": "markdown",
      "source": [
        "# ***Print Exact Slice Of String ***\n",
        "You need to take string input and two other numbers which will be the start and end point of the slice and you need to print that slice of string to the stdout.\n",
        "\n",
        "## Input Format\n",
        "You will be taking a string as an input from stdin and two integers one on each line.\n",
        "\n",
        "## Constraints\n",
        "1 <= |S| <= 10000\n",
        "\n",
        "## Output Format\n",
        "You need to print the slice of the string to the stdout.\n",
        "\n",
        "## Sample TestCase 1\n",
        "**Input :**\n",
        "\n",
        "Hello Techgig\n",
        "\n",
        "1\n",
        "\n",
        "4\n",
        "\n",
        "**Output :**\n",
        "\n",
        "ello"
      ],
      "metadata": {
        "id": "WSIIJtMvZqs-"
      }
    },
    {
      "cell_type": "code",
      "execution_count": 10,
      "metadata": {
        "colab": {
          "base_uri": "https://localhost:8080/"
        },
        "id": "iJDPXba7Zinb",
        "outputId": "52b0ea65-58e7-4ab5-f9d4-caeab420a544"
      },
      "outputs": [
        {
          "output_type": "stream",
          "name": "stdout",
          "text": [
            "Hello Techgig\n",
            "1\n",
            "4\n",
            "ello\n"
          ]
        }
      ],
      "source": [
        "def main():\n",
        "  a = input()\n",
        "  start_num = int(input())\n",
        "  end_num = int(input())\n",
        "  str = a[start_num : end_num + 1]\n",
        "\n",
        "  print(str)\n",
        "main()"
      ]
    }
  ]
}