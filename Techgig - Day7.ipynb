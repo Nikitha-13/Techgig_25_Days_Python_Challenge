{
  "nbformat": 4,
  "nbformat_minor": 0,
  "metadata": {
    "colab": {
      "provenance": []
    },
    "kernelspec": {
      "name": "python3",
      "display_name": "Python 3"
    },
    "language_info": {
      "name": "python"
    }
  },
  "cells": [
    {
      "cell_type": "markdown",
      "source": [
        "# ***Day - 7***"
      ],
      "metadata": {
        "id": "r1nq3CCM3gcJ"
      }
    },
    {
      "cell_type": "markdown",
      "source": [
        "# **Say Hello To Python**"
      ],
      "metadata": {
        "id": "_yXpw_uO3gMA"
      }
    },
    {
      "cell_type": "markdown",
      "source": [
        "You just need to print 'Hello Python' to the stdout.\n",
        "\n",
        "**Input Format :**\n",
        "\n",
        "You will be taking 'Hello Python' as input from stdin as for this problem.\n",
        "\n",
        "**Constraints :**\n",
        "\n",
        "na\n",
        "\n",
        "**Output Format :**\n",
        "\n",
        "You need to print 'Hello Python' to the stdout.\n"
      ],
      "metadata": {
        "id": "hOuO88K_3f6j"
      }
    },
    {
      "cell_type": "markdown",
      "source": [
        "## **Sample TestCase 1**\n",
        "**Input :**\n",
        "\n",
        "Hello Python\n",
        "\n",
        "**Output :**\n",
        "\n",
        "Hello Python\n"
      ],
      "metadata": {
        "id": "qmKWd7jN3frw"
      }
    },
    {
      "cell_type": "code",
      "execution_count": 1,
      "metadata": {
        "colab": {
          "base_uri": "https://localhost:8080/"
        },
        "id": "4HYl5zlb3enc",
        "outputId": "a91943d0-97d2-4112-e3a7-aac7331c918a"
      },
      "outputs": [
        {
          "output_type": "stream",
          "name": "stdout",
          "text": [
            "Hello Python\n",
            "Hello Python\n"
          ]
        }
      ],
      "source": [
        "def main():\n",
        "    # Write code here\n",
        "    user_input = input()\n",
        "    print(user_input)\n",
        "\n",
        "main()"
      ]
    }
  ]
}