{
  "nbformat": 4,
  "nbformat_minor": 0,
  "metadata": {
    "colab": {
      "provenance": []
    },
    "kernelspec": {
      "name": "python3",
      "display_name": "Python 3"
    },
    "language_info": {
      "name": "python"
    }
  },
  "cells": [
    {
      "cell_type": "markdown",
      "source": [
        "# ***Day - 13***"
      ],
      "metadata": {
        "id": "bAzQ-Xv6BGYu"
      }
    },
    {
      "cell_type": "markdown",
      "source": [
        "# **Play with Fibonacci sequence**"
      ],
      "metadata": {
        "id": "35RoJkKXBGPV"
      }
    },
    {
      "cell_type": "markdown",
      "source": [
        "You just need to take a number as input from stdin which will tell how many terms of the Fibonacci needs to be printed."
      ],
      "metadata": {
        "id": "PmLWQ6p4BGG6"
      }
    },
    {
      "cell_type": "markdown",
      "source": [
        "## Input Format\n",
        "You will be taking a number as an input from stdin.\n",
        "\n",
        "## Constraints\n",
        "1 <= N <= 10000\n",
        "\n",
        "## Output Format\n",
        "You need to print the Fibonacci series separated by space to the stdout."
      ],
      "metadata": {
        "id": "RdK6jJmtBF_D"
      }
    },
    {
      "cell_type": "markdown",
      "source": [
        "## Sample TestCase 1\n",
        "**Input :**\n",
        "\n",
        "10\n",
        "\n",
        "**Output :**\n",
        "\n",
        "0 1 1 2 3 5 8 13 21 34"
      ],
      "metadata": {
        "id": "qmHlHKSRBe4V"
      }
    },
    {
      "cell_type": "code",
      "execution_count": 1,
      "metadata": {
        "colab": {
          "base_uri": "https://localhost:8080/"
        },
        "id": "5q0YZa8pBE8e",
        "outputId": "9aebed5e-e0a8-41ad-c7a5-919e2948825c"
      },
      "outputs": [
        {
          "output_type": "stream",
          "name": "stdout",
          "text": [
            "10\n",
            "0 1 1 2 3 5 8 13 21 34\n"
          ]
        }
      ],
      "source": [
        "def fibbonaci(n):\n",
        "    # Write code here\n",
        "    fib_series = [0,1]\n",
        "    for i in range(2, n):\n",
        "        next_term = fib_series[-1] + fib_series[-2]\n",
        "        fib_series.append(next_term)\n",
        "    return fib_series\n",
        "\n",
        "n = int(input())\n",
        "\n",
        "result = fibbonaci(n)\n",
        "\n",
        "print(*result)"
      ]
    }
  ]
}