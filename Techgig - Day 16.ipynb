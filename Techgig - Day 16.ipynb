{
  "nbformat": 4,
  "nbformat_minor": 0,
  "metadata": {
    "colab": {
      "provenance": []
    },
    "kernelspec": {
      "name": "python3",
      "display_name": "Python 3"
    },
    "language_info": {
      "name": "python"
    }
  },
  "cells": [
    {
      "cell_type": "markdown",
      "source": [
        "# ***Day - 16***"
      ],
      "metadata": {
        "id": "Fp5x8-LJF4Re"
      }
    },
    {
      "cell_type": "markdown",
      "source": [
        "# **How Much Big Is Your Number**"
      ],
      "metadata": {
        "id": "5bJPZBgrF4JG"
      }
    },
    {
      "cell_type": "markdown",
      "source": [
        "For this challenge, you will take an integer input from stdin, store it in a variable and  calculate the number of digits in the number using division operator.\n"
      ],
      "metadata": {
        "id": "RHSTpfgjF4Ac"
      }
    },
    {
      "cell_type": "markdown",
      "source": [
        "## Input Format\n",
        "A single integer value to be taken as input from stdin and stored it in a variable of your choice.\n",
        "\n",
        "## Constraints\n",
        "1 < = n < = 18\n",
        "\n",
        "## Output Format\n",
        "Print the value which you will get after calculating the number of digits.\n"
      ],
      "metadata": {
        "id": "rB8XVQkWF322"
      }
    },
    {
      "cell_type": "markdown",
      "source": [
        "## Sample TestCase 1\n",
        "**Input :**\n",
        "\n",
        "34567\n",
        "\n",
        "**Output :**\n",
        "\n",
        "5\n"
      ],
      "metadata": {
        "id": "i5hi6PjwF3t_"
      }
    },
    {
      "cell_type": "code",
      "execution_count": 2,
      "metadata": {
        "colab": {
          "base_uri": "https://localhost:8080/"
        },
        "id": "ucoRfb_JF2iE",
        "outputId": "60fd56c7-3871-4f45-e791-d66b508387d9"
      },
      "outputs": [
        {
          "output_type": "stream",
          "name": "stdout",
          "text": [
            "34567\n",
            "5\n"
          ]
        }
      ],
      "source": [
        "def main():\n",
        "    # Write code here\n",
        "\n",
        "    a = int(input())\n",
        "    a_count = 0\n",
        "    while a > 0:\n",
        "        a = a // 10\n",
        "        a_count += 1\n",
        "    print(a_count)\n",
        "main()"
      ]
    }
  ]
}