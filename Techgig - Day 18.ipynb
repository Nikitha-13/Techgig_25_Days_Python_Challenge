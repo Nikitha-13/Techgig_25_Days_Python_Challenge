{
  "nbformat": 4,
  "nbformat_minor": 0,
  "metadata": {
    "colab": {
      "provenance": []
    },
    "kernelspec": {
      "name": "python3",
      "display_name": "Python 3"
    },
    "language_info": {
      "name": "python"
    }
  },
  "cells": [
    {
      "cell_type": "markdown",
      "source": [
        "# ***Day - 18***"
      ],
      "metadata": {
        "id": "m4wwQyO74TLt"
      }
    },
    {
      "cell_type": "markdown",
      "source": [
        "# **Count special numbers between boundaries**\n",
        "For this challenge, you are given a range and you need to find how many prime numbers lying between the given range.\n",
        "\n",
        "## **Input Format**\n",
        "For this challenge, you need to take two integers on separate lines. These numbers defines the range.\n",
        "\n",
        "##**Constraints**\n",
        "1 < = ( a , b ) < = 100000\n",
        "\n",
        "## **Output Format**\n",
        "output will be the single number which tells how many prime numbers are there between given range.\n",
        "\n",
        "## Sample TestCase 1\n",
        "**Input :**\n",
        "\n",
        "1\n",
        "\n",
        "20\n",
        "\n",
        "**Output :**\n",
        "\n",
        "8"
      ],
      "metadata": {
        "id": "grbW_b3i3P_j"
      }
    },
    {
      "cell_type": "code",
      "execution_count": 4,
      "metadata": {
        "colab": {
          "base_uri": "https://localhost:8080/"
        },
        "id": "TuL9vgwC3PNa",
        "outputId": "b4abf88e-aece-4ee9-9142-df70aa9afaff"
      },
      "outputs": [
        {
          "output_type": "stream",
          "name": "stdout",
          "text": [
            "1\n",
            "20\n",
            "8\n"
          ]
        }
      ],
      "source": [
        "def is_prime(num):\n",
        "    if num < 2:\n",
        "        return False\n",
        "    for i in range(2, int(num**0.5) + 1):\n",
        "        if num % i == 0:\n",
        "            return False\n",
        "    return True\n",
        "\n",
        "def count_primes_in_interval(start, end):\n",
        "    count = 0\n",
        "    for num in range(start, end + 1):\n",
        "        if is_prime(num):\n",
        "            count += 1\n",
        "    return count\n",
        "\n",
        "if __name__ == \"__main__\":\n",
        "    # Input\n",
        "    start = int(input())\n",
        "    end = int(input())\n",
        "\n",
        "    #result = count(start, end)\n",
        "\n",
        "    # Output\n",
        "    result = count_primes_in_interval(start, end)\n",
        "    print(result)"
      ]
    }
  ]
}