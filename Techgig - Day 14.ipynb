{
  "nbformat": 4,
  "nbformat_minor": 0,
  "metadata": {
    "colab": {
      "provenance": []
    },
    "kernelspec": {
      "name": "python3",
      "display_name": "Python 3"
    },
    "language_info": {
      "name": "python"
    }
  },
  "cells": [
    {
      "cell_type": "markdown",
      "source": [
        "# ***Day - 14***"
      ],
      "metadata": {
        "id": "MhohU0bx3LAn"
      }
    },
    {
      "cell_type": "markdown",
      "source": [
        "# **Decide yourself with conditional statement**"
      ],
      "metadata": {
        "id": "-y0RXQR73K2L"
      }
    },
    {
      "cell_type": "markdown",
      "source": [
        "For this challenge, you need to read a integer value(default name - age) from stdin, store it in a variable and then compare that value with the conditions given below -\n",
        "\n",
        "    - if age is less than 10, then print 'I am happy as having no responsibilities.' to the stdout.\n",
        "    - if age is equal to or greater than 10 but less than 18, then print 'I am still happy but starts feeling pressure of life.' to the stdout.\n",
        "    - if age is equal to or greater than 18, then print 'I am very much happy as i handled the pressure very well.' to the stdout."
      ],
      "metadata": {
        "id": "L3zq8RAp3Ksh"
      }
    },
    {
      "cell_type": "markdown",
      "source": [
        "## Input Format\n",
        "A single line to be taken as input and save it into a variable of your choice(Default name - age).\n",
        "\n",
        "## Constraints\n",
        "1 < = age < = 100\n",
        "\n",
        "## Output Format\n",
        "Print the sentence according to the value of the integer which you had taken as an input.\n"
      ],
      "metadata": {
        "id": "8hBiDHxB3Kh_"
      }
    },
    {
      "cell_type": "markdown",
      "source": [
        "## Sample TestCase 1\n",
        "**Input :**\n",
        "\n",
        "8\n",
        "\n",
        "**Output :**\n",
        "\n",
        "I am happy as having no responsibilities.\n"
      ],
      "metadata": {
        "id": "CbqBVFjQ3Kaw"
      }
    },
    {
      "cell_type": "code",
      "execution_count": 1,
      "metadata": {
        "colab": {
          "base_uri": "https://localhost:8080/"
        },
        "id": "t1_j1J8P3JoR",
        "outputId": "6c6533d8-9094-472f-8ec5-279125394232"
      },
      "outputs": [
        {
          "output_type": "stream",
          "name": "stdout",
          "text": [
            "8\n",
            "I am happy as having no responsibilities.\n"
          ]
        }
      ],
      "source": [
        "def main():\n",
        "    # Write code here\n",
        "\n",
        "    age = int(input())\n",
        "\n",
        "    if age < 10:\n",
        "        print(\"I am happy as having no responsibilities.\")\n",
        "    elif age >= 10 and age < 18:\n",
        "        print(\"I am still happy but starts feeling pressure of life.\")\n",
        "    elif age >= 18:\n",
        "        print(\"I am very much happy as i handled the pressure very well.\")\n",
        "    else:\n",
        "        print()\n",
        "main()\n"
      ]
    }
  ]
}