{
  "nbformat": 4,
  "nbformat_minor": 0,
  "metadata": {
    "colab": {
      "provenance": []
    },
    "kernelspec": {
      "name": "python3",
      "display_name": "Python 3"
    },
    "language_info": {
      "name": "python"
    }
  },
  "cells": [
    {
      "cell_type": "markdown",
      "source": [
        "# ***Day - 17***"
      ],
      "metadata": {
        "id": "j3C5D5npi4bK"
      }
    },
    {
      "cell_type": "markdown",
      "source": [
        "#**Anabelle** **and** **Consonants**\n",
        "Anabelle is a little girl and is studying about consonants and vowels at school. Mr. Harvey, his father, likes the consonants and also likes even numbers. Mr. Harvey thought of testing out Anabelle learnings. Mr. Harvey gives a task to Anabelle and if she is able to get the correct result, she will be getting a lot of chocolates. The problem is she is practicing for her dance competition at school. She is asking you for help so she can get lots of chocolates and can also get to practice. Can you solve the task for her?\n",
        "\n",
        "## **Task:**\n",
        "Mr. Harvey will provide Anabelle with a string S consisting of lowercase letters and she has to find the number of consonants which occur at even index in the given string.\n",
        "\n",
        "### **Note: The index of string starts from 0. **\n",
        "\n",
        "\n",
        "**Input Format :**\n",
        "\n",
        "The only line of input consists of a string S.\n",
        "\n",
        "**Constraints :**\n",
        "\n",
        "1 <= |S|<= 10^5\n",
        "\n",
        "|S| - length of the string\n",
        "\n",
        "\n",
        "**Output Format :**\n",
        "\n",
        "Print the number of consonants at even index in the given string.\n",
        "\n",
        "\n",
        "\n",
        "\n",
        "### Sample TestCase 1\n",
        "**Input :**\n",
        "\n",
        "abcdefgh\n",
        "\n",
        "**Output :**\n",
        "\n",
        "2\n"
      ],
      "metadata": {
        "id": "uVXlsg_AhV4o"
      }
    },
    {
      "cell_type": "code",
      "execution_count": 2,
      "metadata": {
        "colab": {
          "base_uri": "https://localhost:8080/"
        },
        "id": "R0hJ_yXfhTnw",
        "outputId": "728e4658-32e7-4416-b94b-f47964028c3d"
      },
      "outputs": [
        {
          "output_type": "stream",
          "name": "stdout",
          "text": [
            "abcdefgh\n",
            "2\n"
          ]
        }
      ],
      "source": [
        "def count_consonants_at_even_index(s):\n",
        "    consonants = \"bcdfghjklmnpqrstvwxyz\"\n",
        "    count = 0\n",
        "\n",
        "    for i in range(0, len(s), 2):\n",
        "        if s[i] in consonants:\n",
        "            count += 1\n",
        "\n",
        "    return count\n",
        "\n",
        "string_input = input()\n",
        "\n",
        "result = count_consonants_at_even_index(string_input)\n",
        "print(result)"
      ]
    }
  ]
}