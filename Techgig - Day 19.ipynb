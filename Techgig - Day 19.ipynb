{
  "nbformat": 4,
  "nbformat_minor": 0,
  "metadata": {
    "colab": {
      "provenance": []
    },
    "kernelspec": {
      "name": "python3",
      "display_name": "Python 3"
    },
    "language_info": {
      "name": "python"
    }
  },
  "cells": [
    {
      "cell_type": "markdown",
      "source": [
        "# ***Day - 19***"
      ],
      "metadata": {
        "id": "UL44CVcFaCR4"
      }
    },
    {
      "cell_type": "markdown",
      "source": [
        "# **Is your Number Armstrong?**\n",
        "For this challenge, you need to take an integer input and store it in a variable of your choice and checks whether this number is an Armstrong number or not. If yes print 'True' else print 'False'.\n",
        "\n",
        "## Input Format\n",
        "A single integer value to be taken as input from stdin and stored it in a variable.\n",
        "\n",
        "## Constraints\n",
        "1 < = n < = 18\n",
        "\n",
        "## Output Format\n",
        "print 'True' if your number is Armstrong otherwise print 'False' to the stdout.\n",
        "\n",
        "## Sample TestCase 1\n",
        "**Input :**\n",
        "370\n",
        "\n",
        "**Output :**\n",
        "True"
      ],
      "metadata": {
        "id": "WSIIJtMvZqs-"
      }
    },
    {
      "cell_type": "code",
      "execution_count": 4,
      "metadata": {
        "colab": {
          "base_uri": "https://localhost:8080/"
        },
        "id": "iJDPXba7Zinb",
        "outputId": "09b3e4cc-be97-4167-e3db-ac1d80d948b5"
      },
      "outputs": [
        {
          "output_type": "stream",
          "name": "stdout",
          "text": [
            "370\n",
            "True\n"
          ]
        }
      ],
      "source": [
        "def is_armstrong_number(number):\n",
        "    # Convert the number to a string to find the number of digits\n",
        "    num_str = str(number)\n",
        "    num_digits = len(num_str)\n",
        "\n",
        "    # Calculate the sum of each digit raised to the power of the number of digits\n",
        "    armstrong_sum = sum(int(digit) ** num_digits for digit in num_str)\n",
        "\n",
        "    # Check if the sum is equal to the original number\n",
        "    return armstrong_sum == number\n",
        "\n",
        "if __name__ == \"__main__\":\n",
        "    # Input\n",
        "    number = int(input())\n",
        "\n",
        "    # Check if the number is Armstrong\n",
        "    result = is_armstrong_number(number)\n",
        "\n",
        "    # Output\n",
        "    print(result)\n",
        "\n"
      ]
    }
  ]
}