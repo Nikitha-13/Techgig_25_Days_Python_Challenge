{
  "nbformat": 4,
  "nbformat_minor": 0,
  "metadata": {
    "colab": {
      "provenance": []
    },
    "kernelspec": {
      "name": "python3",
      "display_name": "Python 3"
    },
    "language_info": {
      "name": "python"
    }
  },
  "cells": [
    {
      "cell_type": "markdown",
      "source": [
        "# ***Day - 5***"
      ],
      "metadata": {
        "id": "2H-OpkLi0JAy"
      }
    },
    {
      "cell_type": "markdown",
      "source": [
        "# **Division**"
      ],
      "metadata": {
        "id": "5CTnT9L90O1N"
      }
    },
    {
      "cell_type": "markdown",
      "source": [
        "You just need to take two numbers as input from stdin and you need to divide them.\n",
        "\n",
        "**Input Format :**\n",
        "\n",
        "You will be taking two numbers as an input from stdin one on each line respectively.\n",
        "\n",
        "**Constraints :**\n",
        "\n",
        "1 <= N <= 10000\n",
        "\n",
        "**Output Format :**\n",
        "\n",
        "You need to print the output of the division to stdout."
      ],
      "metadata": {
        "id": "UhtCBpcf0RCk"
      }
    },
    {
      "cell_type": "markdown",
      "source": [
        "### **Sample TestCase 1**\n",
        "**Input :**\n",
        "\n",
        "900\n",
        "\n",
        "100\n",
        "\n",
        "**Output :**\n",
        "\n",
        "9"
      ],
      "metadata": {
        "id": "-Q2VF0y40lgo"
      }
    },
    {
      "cell_type": "code",
      "source": [
        "def main():\n",
        "    # Write code here\n",
        "    num1 = int(input())\n",
        "    num2 = int(input())\n",
        "\n",
        "    res = num1 // num2\n",
        "    print(res)\n",
        "\n",
        "main()"
      ],
      "metadata": {
        "colab": {
          "base_uri": "https://localhost:8080/"
        },
        "id": "WshVEdzt01gF",
        "outputId": "eb1ecb90-e865-4960-9225-71ed30013700"
      },
      "execution_count": 1,
      "outputs": [
        {
          "output_type": "stream",
          "name": "stdout",
          "text": [
            "900\n",
            "100\n",
            "9\n"
          ]
        }
      ]
    }
  ]
}