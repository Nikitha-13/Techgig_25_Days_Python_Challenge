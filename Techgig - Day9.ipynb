{
  "nbformat": 4,
  "nbformat_minor": 0,
  "metadata": {
    "colab": {
      "provenance": []
    },
    "kernelspec": {
      "name": "python3",
      "display_name": "Python 3"
    },
    "language_info": {
      "name": "python"
    }
  },
  "cells": [
    {
      "cell_type": "markdown",
      "source": [
        "# ***Day - 9***"
      ],
      "metadata": {
        "id": "aGHPwg8e7ogI"
      }
    },
    {
      "cell_type": "markdown",
      "source": [
        "# **Add Two Numbers**"
      ],
      "metadata": {
        "id": "uUY2Y-Bi7oWl"
      }
    },
    {
      "cell_type": "markdown",
      "source": [
        "You just need to take two numbers as input from stdin and print the sum of those two numbers to the stdout.\n",
        "\n",
        "**Input Format :**\n",
        "\n",
        "You will be taking two numbers as an input one on each line from stdin.\n",
        "\n",
        "**Constraints :**\n",
        "\n",
        "1 <= N <= 10000\n",
        "\n",
        "**Output Format :**\n",
        "\n",
        "You need to print the sum to the stdout.\n"
      ],
      "metadata": {
        "id": "nXoCvoqy7oMu"
      }
    },
    {
      "cell_type": "markdown",
      "source": [
        "## **Sample TestCase 1**\n",
        "**Input :**\n",
        "\n",
        "10\n",
        "\n",
        "20\n",
        "\n",
        "**Output :**\n",
        "\n",
        "30"
      ],
      "metadata": {
        "id": "n5DG0gEJ7oFM"
      }
    },
    {
      "cell_type": "code",
      "execution_count": 1,
      "metadata": {
        "colab": {
          "base_uri": "https://localhost:8080/"
        },
        "id": "XSgROfEt7nR7",
        "outputId": "252b4030-d385-47a3-efbb-1164e97095e1"
      },
      "outputs": [
        {
          "output_type": "stream",
          "name": "stdout",
          "text": [
            "10\n",
            "20\n",
            "30\n"
          ]
        }
      ],
      "source": [
        "def main():\n",
        "    # Write code here\n",
        "    num1 = int(input())\n",
        "    num2 = int(input())\n",
        "\n",
        "    sum = num1 + num2\n",
        "    print(sum)\n",
        "main()"
      ]
    }
  ]
}