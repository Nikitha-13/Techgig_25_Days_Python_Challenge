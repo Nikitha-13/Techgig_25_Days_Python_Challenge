{
  "nbformat": 4,
  "nbformat_minor": 0,
  "metadata": {
    "colab": {
      "provenance": []
    },
    "kernelspec": {
      "name": "python3",
      "display_name": "Python 3"
    },
    "language_info": {
      "name": "python"
    }
  },
  "cells": [
    {
      "cell_type": "markdown",
      "source": [
        "# ***Day - 21***"
      ],
      "metadata": {
        "id": "UL44CVcFaCR4"
      }
    },
    {
      "cell_type": "markdown",
      "source": [
        "# **String Concatenation **\n",
        "You just need to take two strings as input from stdin and concatenate them and print the concatenated string to the stdout.\n",
        "\n",
        "## Input Format\n",
        "You will be taking two strings as an input from stdin one on each line respectively.\n",
        "\n",
        "## Constraints\n",
        "1 <= |S| <= 10000\n",
        "\n",
        "## Output Format\n",
        "You need to print the concatenated string to the stdout.\n",
        "\n",
        "## Sample TestCase 1\n",
        "**Input :**\n",
        "\n",
        "Hello\n",
        "\n",
        "Techgig\n",
        "\n",
        "**Output :**\n",
        "\n",
        "HelloTechgig"
      ],
      "metadata": {
        "id": "WSIIJtMvZqs-"
      }
    },
    {
      "cell_type": "code",
      "execution_count": 14,
      "metadata": {
        "colab": {
          "base_uri": "https://localhost:8080/"
        },
        "id": "iJDPXba7Zinb",
        "outputId": "6feefaff-acb8-4a41-a2be-8cfa214a91a2"
      },
      "outputs": [
        {
          "output_type": "stream",
          "name": "stdout",
          "text": [
            "Hello\n",
            "Techgig\n",
            "HelloTechgig\n"
          ]
        }
      ],
      "source": [
        "def main():\n",
        "  string1 = input().strip()\n",
        "  string2 = input().strip()\n",
        "\n",
        "  string = string1 + string2\n",
        "\n",
        "  print(string)\n",
        "main()"
      ]
    }
  ]
}