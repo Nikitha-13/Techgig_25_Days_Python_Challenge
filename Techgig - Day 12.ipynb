{
  "nbformat": 4,
  "nbformat_minor": 0,
  "metadata": {
    "colab": {
      "provenance": []
    },
    "kernelspec": {
      "name": "python3",
      "display_name": "Python 3"
    },
    "language_info": {
      "name": "python"
    }
  },
  "cells": [
    {
      "cell_type": "markdown",
      "source": [
        "# ***Day - 12***"
      ],
      "metadata": {
        "id": "BOFvOgwq8qId"
      }
    },
    {
      "cell_type": "markdown",
      "source": [
        "# **Greatest Of 3**"
      ],
      "metadata": {
        "id": "493bCwri8p8F"
      }
    },
    {
      "cell_type": "markdown",
      "source": [
        "You just need to take three number as input from stdin and you need to find greatest of them."
      ],
      "metadata": {
        "id": "MiE6oJd18pxc"
      }
    },
    {
      "cell_type": "markdown",
      "source": [
        "## Input Format\n",
        "\n",
        "You will be taking three numbers as an input from stdin one on each line respectively.\n",
        "\n",
        "\n",
        "## Constraints\n",
        "-100000 <= N <= 100000\n",
        "\n",
        "## Output Format\n",
        "You need to print the greatest of the three numbers to the stdout."
      ],
      "metadata": {
        "id": "IWq1TPIA8plw"
      }
    },
    {
      "cell_type": "markdown",
      "source": [
        "## Sample TestCase 1\n",
        "**Input :**\n",
        "\n",
        "902\n",
        "\n",
        "100\n",
        "\n",
        "666\n",
        "\n",
        "**Output :**\n",
        "\n",
        "902"
      ],
      "metadata": {
        "id": "pQGVdN7B9CIC"
      }
    },
    {
      "cell_type": "code",
      "execution_count": 1,
      "metadata": {
        "colab": {
          "base_uri": "https://localhost:8080/"
        },
        "id": "3WUYqb4h8obD",
        "outputId": "a04695c2-f73d-4de4-d412-7846e1e8cfb1"
      },
      "outputs": [
        {
          "output_type": "stream",
          "name": "stdout",
          "text": [
            "902\n",
            "100\n",
            "666\n",
            "902\n"
          ]
        }
      ],
      "source": [
        "def main():\n",
        "    # Write code here\n",
        "    a = int(input())\n",
        "    b = int(input())\n",
        "    c = int(input())\n",
        "\n",
        "    if a > b and a > c:\n",
        "        print(a)\n",
        "    elif b > c:\n",
        "        print(b)\n",
        "    else:\n",
        "        print(c)\n",
        "main()"
      ]
    }
  ]
}