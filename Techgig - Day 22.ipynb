{
  "nbformat": 4,
  "nbformat_minor": 0,
  "metadata": {
    "colab": {
      "provenance": []
    },
    "kernelspec": {
      "name": "python3",
      "display_name": "Python 3"
    },
    "language_info": {
      "name": "python"
    }
  },
  "cells": [
    {
      "cell_type": "markdown",
      "source": [
        "# ***Day - 22***\n",
        "# ***Print First Character***\n",
        "You just need to take string input from stdin and print the first character of the string to the stdout.\n",
        "\n",
        "### Input Format\n",
        "You will be taking a string as an input from stdin.\n",
        "\n",
        "### Constraints\n",
        "1 <= |S| <= 100000\n",
        "\n",
        "### Output Format\n",
        "You need to print the first character of the string to the stdout.\n",
        "\n",
        "## Sample TestCase 1\n",
        "**Input :**\n",
        "\n",
        "Hello Techgig\n",
        "\n",
        "**Output :**\n",
        "\n",
        "H"
      ],
      "metadata": {
        "id": "P7E9EwdBGX_l"
      }
    },
    {
      "cell_type": "code",
      "execution_count": 5,
      "metadata": {
        "colab": {
          "base_uri": "https://localhost:8080/"
        },
        "id": "VPHuby0uGVks",
        "outputId": "dbbe75e0-44ac-458d-8578-2d0fe53cce35"
      },
      "outputs": [
        {
          "output_type": "stream",
          "name": "stdout",
          "text": [
            "Enter a String : Hello Techgig\n",
            "Enter starting index : 0\n",
            "Enter last index : 1\n",
            "H\n"
          ]
        }
      ],
      "source": [
        "def main():\n",
        "  # Write code here\n",
        "  input_str = input(\"Enter a String : \")\n",
        "  start_index = int(input(\"Enter starting index : \"))\n",
        "  end_index = int(input(\"Enter last index : \"))\n",
        "\n",
        "  result = input_str[start_index : end_index]\n",
        "\n",
        "  print(result)\n",
        "main()"
      ]
    }
  ]
}