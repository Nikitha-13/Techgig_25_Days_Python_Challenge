{
  "nbformat": 4,
  "nbformat_minor": 0,
  "metadata": {
    "colab": {
      "provenance": []
    },
    "kernelspec": {
      "name": "python3",
      "display_name": "Python 3"
    },
    "language_info": {
      "name": "python"
    }
  },
  "cells": [
    {
      "cell_type": "markdown",
      "source": [
        "# ***Day - 11***"
      ],
      "metadata": {
        "id": "7mutIIA55bVM"
      }
    },
    {
      "cell_type": "markdown",
      "source": [
        "# **Play with operators**"
      ],
      "metadata": {
        "id": "wnMb8lIu5bJx"
      }
    },
    {
      "cell_type": "markdown",
      "source": [
        "For this challenge, you will be given the values of principal, interest and year. You need to calculate the simple interest, round it to the nearest integer and print it."
      ],
      "metadata": {
        "id": "07k3j8oG5a_n"
      }
    },
    {
      "cell_type": "markdown",
      "source": [
        "**Input Format**\n",
        "\n",
        "There will be 3 lines of numeric input -\n",
        "'a' : principal which is of type double.\n",
        "'b' : interest which is of type integer.\n",
        "'c' : year which is again of type integer.\n",
        "\n",
        "\n",
        "**Constraints**\n",
        "\n",
        "1 < = (a,b,c) < = 1000\n",
        "\n",
        "**Output Format**\n",
        "\n",
        "Just print the simple interest value after performing the calculation using the formula to the stdout. The result should be an integer."
      ],
      "metadata": {
        "id": "mrZViYgB5a0q"
      }
    },
    {
      "cell_type": "markdown",
      "source": [
        "**Sample TestCase 1**\n",
        "\n",
        "Input :\n",
        "\n",
        "1000\n",
        "\n",
        "4\n",
        "\n",
        "2\n",
        "\n",
        "\n",
        "Output :\n",
        "\n",
        "80"
      ],
      "metadata": {
        "id": "T_AtIYJN54Oo"
      }
    },
    {
      "cell_type": "code",
      "execution_count": 1,
      "metadata": {
        "colab": {
          "base_uri": "https://localhost:8080/"
        },
        "id": "MPw8iHo35Zks",
        "outputId": "1d520820-9465-4cb8-d39a-5aad9ea10eb1"
      },
      "outputs": [
        {
          "output_type": "stream",
          "name": "stdout",
          "text": [
            "1000\n",
            "4\n",
            "2\n",
            "80\n"
          ]
        }
      ],
      "source": [
        "def main():\n",
        "\n",
        "    a = float(input()) # principal #\n",
        "    b = int(input()) # interest rate #\n",
        "    c = int(input()) # years #\n",
        "\n",
        "    simple_interest = int((a * b * c) / 100)\n",
        "\n",
        "    print(simple_interest)\n",
        "\n",
        "main()"
      ]
    }
  ]
}