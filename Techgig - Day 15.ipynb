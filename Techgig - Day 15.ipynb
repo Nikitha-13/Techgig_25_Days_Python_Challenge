{
  "nbformat": 4,
  "nbformat_minor": 0,
  "metadata": {
    "colab": {
      "provenance": []
    },
    "kernelspec": {
      "name": "python3",
      "display_name": "Python 3"
    },
    "language_info": {
      "name": "python"
    }
  },
  "cells": [
    {
      "cell_type": "markdown",
      "source": [
        "Day - 15"
      ],
      "metadata": {
        "id": "Yg1zJZnr5wwB"
      }
    },
    {
      "cell_type": "markdown",
      "source": [
        "# **Loop your world**"
      ],
      "metadata": {
        "id": "4ke-_yW05wg2"
      }
    },
    {
      "cell_type": "markdown",
      "source": [
        "For this challenge, you need to take an integer value as input from stdin, calculate its factorial and print the result to the stdout. 1"
      ],
      "metadata": {
        "id": "vDWN0h5-5wdY"
      }
    },
    {
      "cell_type": "markdown",
      "source": [
        "## Input Format\n",
        "A single integer value to be taken as input from stdin and stored it in a variable of your choice.\n",
        "\n",
        "## Constraints\n",
        "1 < = n < = 15\n",
        "\n",
        "## Output Format\n",
        "Print the value which you will get after calculating the factorial of the input."
      ],
      "metadata": {
        "id": "EBeuWCYS5wbB"
      }
    },
    {
      "cell_type": "markdown",
      "source": [
        "## Sample TestCase 1\n",
        "**Input :**\n",
        "\n",
        "5\n",
        "\n",
        "**Output :**\n",
        "\n",
        "120\n"
      ],
      "metadata": {
        "id": "Jf6Gqaqp5wYJ"
      }
    },
    {
      "cell_type": "code",
      "execution_count": 1,
      "metadata": {
        "colab": {
          "base_uri": "https://localhost:8080/"
        },
        "id": "ERcdr5Nd5vsF",
        "outputId": "a5af9188-4e4c-4300-df75-ffdc9d80b549"
      },
      "outputs": [
        {
          "output_type": "stream",
          "name": "stdout",
          "text": [
            "5\n",
            "120\n"
          ]
        }
      ],
      "source": [
        "def main():\n",
        "    # Write code here\n",
        "\n",
        "    n = int(input())\n",
        "\n",
        "    def factorial(num):\n",
        "        if num == 0 or num ==1 :\n",
        "            return 1\n",
        "        else:\n",
        "            return num * factorial(num - 1)\n",
        "    result = factorial(n)\n",
        "    print(result)\n",
        "main()"
      ]
    }
  ]
}