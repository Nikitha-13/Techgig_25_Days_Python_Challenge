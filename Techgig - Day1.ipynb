{
  "nbformat": 4,
  "nbformat_minor": 0,
  "metadata": {
    "colab": {
      "provenance": []
    },
    "kernelspec": {
      "name": "python3",
      "display_name": "Python 3"
    },
    "language_info": {
      "name": "python"
    }
  },
  "cells": [
    {
      "cell_type": "markdown",
      "source": [
        "# ***DAY - 1***\n",
        "\n",
        "\n",
        "\n"
      ],
      "metadata": {
        "id": "SOSRIiZmJEjR"
      }
    },
    {
      "cell_type": "markdown",
      "source": [
        "## **Hello TechGig**"
      ],
      "metadata": {
        "id": "lpnaTCDvHhOq"
      }
    },
    {
      "cell_type": "markdown",
      "source": [
        "For this code challenge, you need to read a line from stdin and store it to a variable, print 'Hello Techgig' and then on another line, print the variable's value.\n",
        "A single line to be taken as input and save it into a variable of your choice.\n",
        "\n",
        "### **Input Format**\n",
        "A single line to be taken as input and save it into a variable of your choice.\n",
        "\n",
        "### **Constraints**\n",
        "1 <  |s| < 10000\n",
        "\n",
        "### **Output Format**\n",
        "Print 'Hello Techgig' and then content of the variable on another line."
      ],
      "metadata": {
        "id": "hvUWubciHnrG"
      }
    },
    {
      "cell_type": "markdown",
      "source": [
        "### **Sample TestCase 1**\n",
        "\n",
        "**INPUT :**\n",
        "\n",
        "I am coming back to the race.\n",
        "\n",
        "**OUTPUT :**\n",
        "\n",
        "Hello Techgig\n",
        "\n",
        "I am coming back to the race."
      ],
      "metadata": {
        "id": "Rqnpm8CWH1hC"
      }
    },
    {
      "cell_type": "code",
      "source": [
        "# Read input\n",
        "input_text = input()\n",
        "\n",
        "# Print 'Hello Techgig'\n",
        "print('Hello Techgig')\n",
        "\n",
        "# Print input_text\n",
        "print(input_text)"
      ],
      "metadata": {
        "colab": {
          "base_uri": "https://localhost:8080/"
        },
        "id": "HHd3Qes5ITtV",
        "outputId": "9c794240-3b5d-4773-d038-42b8ddb8d0ae"
      },
      "execution_count": 2,
      "outputs": [
        {
          "output_type": "stream",
          "name": "stdout",
          "text": [
            "I am coming back to the race.\n",
            "Hello Techgig\n",
            "I am coming back to the race.\n"
          ]
        }
      ]
    }
  ]
}