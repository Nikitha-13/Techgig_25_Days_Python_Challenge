{
  "nbformat": 4,
  "nbformat_minor": 0,
  "metadata": {
    "colab": {
      "provenance": []
    },
    "kernelspec": {
      "name": "python3",
      "display_name": "Python 3"
    },
    "language_info": {
      "name": "python"
    }
  },
  "cells": [
    {
      "cell_type": "markdown",
      "source": [
        "# ***Day - 6***"
      ],
      "metadata": {
        "id": "0lT5H8gz1xvl"
      }
    },
    {
      "cell_type": "markdown",
      "source": [
        "# **Modulus**"
      ],
      "metadata": {
        "id": "GIGnQ11q12lr"
      }
    },
    {
      "cell_type": "markdown",
      "source": [
        "You just need to take two numbers as input from stdin and you need to find modulus of them.\n",
        "\n",
        "**Input Format :**\n",
        "\n",
        "You will be taking two numbers as an input from stdin one on each line respectively.\n",
        "\n",
        "**Constraints :**\n",
        "\n",
        "1 <= N <= 10000\n",
        "\n",
        "**Output Format :**\n",
        "\n",
        "You need to print the output of the modulus to stdout.\n"
      ],
      "metadata": {
        "id": "MKWFjnSk12Gr"
      }
    },
    {
      "cell_type": "markdown",
      "source": [
        "## **Sample TestCase 1**\n",
        "**Input :**\n",
        "\n",
        "902\n",
        "\n",
        "100\n",
        "\n",
        "**Output :**\n",
        "\n",
        "2"
      ],
      "metadata": {
        "id": "ufJSYdKP110-"
      }
    },
    {
      "cell_type": "code",
      "execution_count": 1,
      "metadata": {
        "colab": {
          "base_uri": "https://localhost:8080/"
        },
        "id": "725ygUXF1wVV",
        "outputId": "76434a51-f151-4081-fe85-c2a02c9eddc2"
      },
      "outputs": [
        {
          "output_type": "stream",
          "name": "stdout",
          "text": [
            "902\n",
            "100\n",
            "2\n"
          ]
        }
      ],
      "source": [
        "def main():\n",
        "    # Write code here\n",
        "    num1 = int(input())\n",
        "    num2 = int(input())\n",
        "\n",
        "    res = num1 % num2\n",
        "    print(res)\n",
        "\n",
        "main()"
      ]
    }
  ]
}