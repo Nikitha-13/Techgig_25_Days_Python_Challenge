{
  "nbformat": 4,
  "nbformat_minor": 0,
  "metadata": {
    "colab": {
      "provenance": []
    },
    "kernelspec": {
      "name": "python3",
      "display_name": "Python 3"
    },
    "language_info": {
      "name": "python"
    }
  },
  "cells": [
    {
      "cell_type": "markdown",
      "source": [
        "# ***Day - 10***"
      ],
      "metadata": {
        "id": "nqoc9keJxO-R"
      }
    },
    {
      "cell_type": "markdown",
      "source": [
        "# **Generate Prime Numbers In A Interval**"
      ],
      "metadata": {
        "id": "LNhG1QGsxOzW"
      }
    },
    {
      "cell_type": "markdown",
      "source": [
        "You just need to take two number as input from stdin and you need to find prime numbers between those two numbers and print them.\n",
        "\n",
        "**Input Format :**\n",
        "\n",
        "You will be taking two numbers as an input from stdin one on each line respectively.\n",
        "\n",
        "**Constraints :**\n",
        "\n",
        "1 <= N <= 10000\n",
        "\n",
        "**Output Format :**\n",
        "\n",
        "You need to print the prime numbers one on each line to the stdout."
      ],
      "metadata": {
        "id": "BZxBhP8uxOnY"
      }
    },
    {
      "cell_type": "markdown",
      "source": [
        "## Sample TestCase 1\n",
        "**Input :**\n",
        "\n",
        "900\n",
        "\n",
        "1000\n",
        "\n",
        "**Output :**\n",
        "\n",
        "907\n",
        "\n",
        "911\n",
        "\n",
        "919\n",
        "\n",
        "929\n",
        "\n",
        "937\n",
        "\n",
        "941\n",
        "\n",
        "947\n",
        "\n",
        "953\n",
        "\n",
        "967\n",
        "\n",
        "971\n",
        "\n",
        "977\n",
        "\n",
        "983\n",
        "\n",
        "991\n",
        "\n",
        "997\n"
      ],
      "metadata": {
        "id": "32zEXQVxxOX-"
      }
    },
    {
      "cell_type": "code",
      "execution_count": 3,
      "metadata": {
        "colab": {
          "base_uri": "https://localhost:8080/"
        },
        "id": "m56MoK5LxNOx",
        "outputId": "23b0bdda-c978-450a-cba7-f97ca9ee5395"
      },
      "outputs": [
        {
          "output_type": "stream",
          "name": "stdout",
          "text": [
            "900\n",
            "1000\n",
            "907\n",
            "911\n",
            "919\n",
            "929\n",
            "937\n",
            "941\n",
            "947\n",
            "953\n",
            "967\n",
            "971\n",
            "977\n",
            "983\n",
            "991\n",
            "997\n"
          ]
        }
      ],
      "source": [
        "def is_prime(num):\n",
        "    if num < 2:\n",
        "        return False\n",
        "    for i in range(2, int(num**0.5) + 1):\n",
        "        if num % i == 0:\n",
        "            return False\n",
        "    return True\n",
        "\n",
        "def generate_primes_in_interval(start, end):\n",
        "    for num in range(start, end + 1):\n",
        "        if is_prime(num):\n",
        "            print(num)\n",
        "\n",
        "if __name__ == \"__main__\":\n",
        "\n",
        "    start = int(input())\n",
        "    end = int(input())\n",
        "\n",
        "    generate_primes_in_interval(start, end)\n"
      ]
    }
  ]
}