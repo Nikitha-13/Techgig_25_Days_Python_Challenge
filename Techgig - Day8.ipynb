{
  "nbformat": 4,
  "nbformat_minor": 0,
  "metadata": {
    "colab": {
      "provenance": []
    },
    "kernelspec": {
      "name": "python3",
      "display_name": "Python 3"
    },
    "language_info": {
      "name": "python"
    }
  },
  "cells": [
    {
      "cell_type": "markdown",
      "source": [
        "# ***Day - 8***"
      ],
      "metadata": {
        "id": "A3rg9fTN6G07"
      }
    },
    {
      "cell_type": "markdown",
      "source": [
        "# **Take Input And Print**"
      ],
      "metadata": {
        "id": "dOC7vgcv6Gqg"
      }
    },
    {
      "cell_type": "markdown",
      "source": [
        "You just need to take input from stdin and print it to the stdout.\n",
        "\n",
        "**Input Format :**\n",
        "\n",
        "You will be taking a string as an input from stdin.\n",
        "\n",
        "**Constraints :**\n",
        "\n",
        "1 <= |S| <= 10000\n",
        "\n",
        "**Output Format :**\n",
        "\n",
        "You need to print the input string to the stdout.\n"
      ],
      "metadata": {
        "id": "KNFtn2KW6Gfi"
      }
    },
    {
      "cell_type": "markdown",
      "source": [
        "## **Sample TestCase 1**\n",
        "**Input :**\n",
        "\n",
        "Hello Techgig\n",
        "\n",
        "**Output :**\n",
        "\n",
        "Hello Techgig\n"
      ],
      "metadata": {
        "id": "S7UqbTX56GS2"
      }
    },
    {
      "cell_type": "code",
      "execution_count": 1,
      "metadata": {
        "colab": {
          "base_uri": "https://localhost:8080/"
        },
        "id": "0Ecv5nPh59mo",
        "outputId": "77591b5e-509a-482b-dff8-88a4fe58ca85"
      },
      "outputs": [
        {
          "output_type": "stream",
          "name": "stdout",
          "text": [
            "Hello Techgig\n",
            "Hello Techgig\n"
          ]
        }
      ],
      "source": [
        "def main():\n",
        "    # Write code here\n",
        "    str = input()\n",
        "    print(str)\n",
        "\n",
        "main()\n"
      ]
    }
  ]
}