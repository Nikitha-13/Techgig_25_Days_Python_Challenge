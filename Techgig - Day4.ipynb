{
  "nbformat": 4,
  "nbformat_minor": 0,
  "metadata": {
    "colab": {
      "provenance": []
    },
    "kernelspec": {
      "name": "python3",
      "display_name": "Python 3"
    },
    "language_info": {
      "name": "python"
    }
  },
  "cells": [
    {
      "cell_type": "markdown",
      "source": [
        "# ***Day - 4***"
      ],
      "metadata": {
        "id": "WkmWvlMDwaLn"
      }
    },
    {
      "cell_type": "markdown",
      "source": [
        "# **Multiplication**"
      ],
      "metadata": {
        "id": "f2lDf1_Mwd0r"
      }
    },
    {
      "cell_type": "markdown",
      "source": [
        "You just need to take two numbers as input from stdin and you need to multiply them.\n",
        "\n",
        "## Input Format :\n",
        "\n",
        "You will be taking two numbers as an input from stdin one on each line respectively.\n",
        "\n",
        "## **Constraints :**\n",
        "1 <= N <= 10000\n",
        "\n",
        "## **Output Format :**\n",
        "You need to print the output of the multiplication to stdout.\n"
      ],
      "metadata": {
        "id": "OPso_Nqnwfh-"
      }
    },
    {
      "cell_type": "markdown",
      "source": [
        "### **Sample TestCase 1**\n",
        "\n",
        "## Input :\n",
        "900\n",
        "\n",
        "1000\n",
        "## Output :\n",
        "900000"
      ],
      "metadata": {
        "id": "QrnuWJDTwv3Y"
      }
    },
    {
      "cell_type": "code",
      "execution_count": 2,
      "metadata": {
        "colab": {
          "base_uri": "https://localhost:8080/"
        },
        "id": "VXbCkfpUwYz_",
        "outputId": "17b32306-b100-4045-b170-b50962f92a6c"
      },
      "outputs": [
        {
          "output_type": "stream",
          "name": "stdout",
          "text": [
            "900\n",
            "1000\n",
            "900000\n"
          ]
        }
      ],
      "source": [
        "def main():\n",
        "    # Write code here\n",
        "    num1 = int(input())\n",
        "    num2 = int(input())\n",
        "\n",
        "    res = num1 * num2\n",
        "    print(res)\n",
        "\n",
        "main()"
      ]
    }
  ]
}