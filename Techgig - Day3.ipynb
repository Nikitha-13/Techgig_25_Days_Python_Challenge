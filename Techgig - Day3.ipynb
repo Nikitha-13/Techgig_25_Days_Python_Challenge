{
  "nbformat": 4,
  "nbformat_minor": 0,
  "metadata": {
    "colab": {
      "provenance": []
    },
    "kernelspec": {
      "name": "python3",
      "display_name": "Python 3"
    },
    "language_info": {
      "name": "python"
    }
  },
  "cells": [
    {
      "cell_type": "markdown",
      "source": [
        "# ***DAY - 3***"
      ],
      "metadata": {
        "id": "LmZZQX2lufQz"
      }
    },
    {
      "cell_type": "markdown",
      "source": [
        "## **Subtraction**"
      ],
      "metadata": {
        "id": "z10vT4-Gulom"
      }
    },
    {
      "cell_type": "markdown",
      "source": [
        "You just need to take two numbers as input from stdin and you need to subtract the one from later.\n",
        "\n",
        "**Input Format :**\n",
        "\n",
        "You will be taking two numbers as an input from stdin one on each line respectively.\n",
        "\n",
        "**Constraints :**\n",
        "\n",
        "1 <= N <= 10000\n",
        "\n",
        "**Output Format :**\n",
        "\n",
        "You need to print the output of the subtraction to stdout."
      ],
      "metadata": {
        "id": "mYxBi6i5uskA"
      }
    },
    {
      "cell_type": "markdown",
      "source": [
        "## Sample TestCase 1\n",
        "\n",
        "**Input :**\n",
        "\n",
        "900\n",
        "\n",
        "1000\n",
        "\n",
        "**Output :**\n",
        "\n",
        "100"
      ],
      "metadata": {
        "id": "5u_NaGJ0vAOV"
      }
    },
    {
      "cell_type": "code",
      "execution_count": 1,
      "metadata": {
        "colab": {
          "base_uri": "https://localhost:8080/"
        },
        "id": "yilXaQOhueCc",
        "outputId": "80900c74-2867-459a-fde1-e99377e9f152"
      },
      "outputs": [
        {
          "output_type": "stream",
          "name": "stdout",
          "text": [
            "900\n",
            "1000\n",
            "100\n"
          ]
        }
      ],
      "source": [
        "def main():\n",
        "    # Write code here\n",
        "    input1 = int(input())\n",
        "    input2 = int(input())\n",
        "\n",
        "    res = -(input1 - input2)\n",
        "    print(res)\n",
        "\n",
        "main()"
      ]
    }
  ]
}