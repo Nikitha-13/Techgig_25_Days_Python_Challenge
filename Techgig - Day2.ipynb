{
  "nbformat": 4,
  "nbformat_minor": 0,
  "metadata": {
    "colab": {
      "provenance": []
    },
    "kernelspec": {
      "name": "python3",
      "display_name": "Python 3"
    },
    "language_info": {
      "name": "python"
    }
  },
  "cells": [
    {
      "cell_type": "markdown",
      "source": [
        "# ***DAY - 2***"
      ],
      "metadata": {
        "id": "_Buoz1ehOV-o"
      }
    },
    {
      "cell_type": "markdown",
      "source": [
        "# **Exploring Data Types**"
      ],
      "metadata": {
        "id": "vLa0LfK1OaI-"
      }
    },
    {
      "cell_type": "markdown",
      "source": [
        "For this challenge, you need to read a line from stdin and check whether it is of type integer, float or string.\n",
        "\n",
        "If input is-\n",
        "\n",
        "    Integer print 'This input is of type Integer.' to the stdout\n",
        "    Float print 'This input is of type Float.' to the stdout\n",
        "    String print 'This input is of type string.' to the stdout\n",
        "    else print 'This is something else.' to the stdout.\n",
        "\n",
        "**Input Format**\n",
        "\n",
        "A single line to be taken as input as save it to a variable(name of your choice).\n",
        "\n",
        "**Constraints**\n",
        "\n",
        "1 < |s| < 10000\n",
        "\n",
        "**Output Format**\n",
        "\n",
        "Print the text according to the data type you get as an input."
      ],
      "metadata": {
        "id": "mg0bwxDSOeJd"
      }
    },
    {
      "cell_type": "markdown",
      "source": [
        "**Sample TestCase 1**\n",
        "\n",
        "**INPUT :**\n",
        "\n",
        "-32767\n",
        "\n",
        "**OUTPUT :**\n",
        "\n",
        "This input is of type Integer.\n"
      ],
      "metadata": {
        "id": "ZQjsiwKJOtLy"
      }
    },
    {
      "cell_type": "code",
      "execution_count": 13,
      "metadata": {
        "colab": {
          "base_uri": "https://localhost:8080/"
        },
        "id": "wtEaS41jOQnO",
        "outputId": "30a9fe8a-cb0e-42fa-c765-bd2ebe5fc26f"
      },
      "outputs": [
        {
          "output_type": "stream",
          "name": "stdout",
          "text": [
            "-32767\n",
            "This input is of type Integer.\n"
          ]
        }
      ],
      "source": [
        "def main():\n",
        "\n",
        "    input_num = input()\n",
        "\n",
        "    if input_num.lstrip('-').isdigit():\n",
        "        print(\"This input is of type Integer.\")\n",
        "\n",
        "    elif '.' in input_num and input_num.replace('.', '').isdigit():\n",
        "        print(\"This input is of type Float.\")\n",
        "\n",
        "    elif input_num == str(input_num):\n",
        "        print(\"This input is of type string.\")\n",
        "\n",
        "    else:\n",
        "        print(\"This is something else.\")\n",
        "\n",
        "main()"
      ]
    }
  ]
}